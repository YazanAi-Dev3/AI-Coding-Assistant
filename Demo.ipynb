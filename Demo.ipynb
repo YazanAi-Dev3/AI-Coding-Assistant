{
 "cells": [
  {
   "cell_type": "markdown",
   "id": "1f4fe4d1",
   "metadata": {},
   "source": [
    "# AI Coding Assistant: A Hybrid RAG Chatbot\n",
    "\n",
    "This notebook demonstrates a sophisticated, hybrid chatbot designed to function as a programming assistant. The system leverages a **Retrieval-Augmented Generation (RAG)** architecture to provide accurate and efficient answers to coding questions.\n",
    "\n",
    "### Core Architecture:\n",
    "-   **Retriever:** A `CodeBERT` model provides fast and contextually-aware answers for common questions stored in a pre-computed vector database.\n",
    "-   **Generator:** A powerful generative model (`microsoft/phi-2`) creates new, on-the-fly answers for novel or complex questions.\n",
    "-   **Hybrid Logic:** The system intelligently decides whether to retrieve a known answer or generate a new one based on a similarity threshold.\n",
    "\n",
    "This demo will showcase the chatbot's ability to handle both known and unknown questions."
   ]
  },
  {
   "cell_type": "code",
   "execution_count": 1,
   "id": "784d2f75",
   "metadata": {},
   "outputs": [
    {
     "name": "stderr",
     "output_type": "stream",
     "text": [
      "C:\\Users\\LOQ\\AppData\\Local\\Packages\\PythonSoftwareFoundation.Python.3.12_qbz5n2kfra8p0\\LocalCache\\local-packages\\Python312\\site-packages\\tqdm\\auto.py:21: TqdmWarning: IProgress not found. Please update jupyter and ipywidgets. See https://ipywidgets.readthedocs.io/en/stable/user_install.html\n",
      "  from .autonotebook import tqdm as notebook_tqdm\n"
     ]
    },
    {
     "name": "stdout",
     "output_type": "stream",
     "text": [
      "WARNING:tensorflow:From C:\\Users\\LOQ\\AppData\\Local\\Packages\\PythonSoftwareFoundation.Python.3.12_qbz5n2kfra8p0\\LocalCache\\local-packages\\Python312\\site-packages\\tf_keras\\src\\losses.py:2976: The name tf.losses.sparse_softmax_cross_entropy is deprecated. Please use tf.compat.v1.losses.sparse_softmax_cross_entropy instead.\n",
      "\n"
     ]
    },
    {
     "name": "stderr",
     "output_type": "stream",
     "text": [
      "2025-08-05 12:57:15,267 - INFO     - Initializing the Hybrid Chatbot...\n",
      "2025-08-05 12:57:15,271 - INFO     - Vector database loaded from 'database/vector_database.pkl'\n",
      "2025-08-05 12:57:15,271 - INFO     - Attempting to load local embedding model from: d:\\SCIT\\SmartAssistant\\AI-Coding-Assistant\\model_cache\\multi-qa-mpnet-base-dot-v1\n",
      "2025-08-05 12:57:15,280 - INFO     - Use pytorch device_name: cpu\n",
      "2025-08-05 12:57:15,281 - INFO     - Load pretrained SentenceTransformer: d:\\SCIT\\SmartAssistant\\AI-Coding-Assistant\\model_cache\\multi-qa-mpnet-base-dot-v1\n"
     ]
    },
    {
     "name": "stdout",
     "output_type": "stream",
     "text": [
      "Initializing the chatbot system... This may take a moment.\n"
     ]
    },
    {
     "name": "stderr",
     "output_type": "stream",
     "text": [
      "2025-08-05 12:57:17,743 - INFO     - High-performance local embedding model loaded successfully.\n",
      "2025-08-05 12:57:17,743 - INFO     - Attempting to load local generative model from: d:\\SCIT\\SmartAssistant\\AI-Coding-Assistant\\model_cache\\phi-2\n",
      "2025-08-05 12:57:17,743 - INFO     - Using device: cpu\n",
      "2025-08-05 12:57:27,720 - INFO     - Local generative model and tokenizer loaded successfully.\n",
      "2025-08-05 12:57:27,721 - INFO     - Hybrid Chatbot initialized successfully.\n"
     ]
    },
    {
     "name": "stdout",
     "output_type": "stream",
     "text": [
      "\n",
      " Chatbot initialized successfully and is ready to answer questions.\n"
     ]
    }
   ],
   "source": [
    "# Import Logic and Initialize the Chatbot System\n",
    "\n",
    "import sys\n",
    "import os\n",
    "import logging\n",
    "\n",
    "# Add the 'src' folder to our Python path to import the custom modules\n",
    "module_path = os.path.abspath(os.path.join(os.getcwd(), 'src'))\n",
    "if module_path not in sys.path:\n",
    "    sys.path.append(module_path)\n",
    "\n",
    "# Import our main HybridChatbot class from the chatbot_logic.py file\n",
    "from chatbot_logic import HybridChatbot\n",
    "\n",
    "# Configure logging for this session\n",
    "logging.basicConfig(level=logging.INFO, format='%(asctime)s - %(levelname)-8s - %(message)s', force=True)\n",
    "\n",
    "# --- Initialize the Chatbot ---\n",
    "# This single line creates an instance of our chatbot.\n",
    "# The __init__ method inside the class will handle loading both models and the vector DB.\n",
    "# This might take a moment, especially if the models are large.\n",
    "print(\"Initializing the chatbot system... This may take a moment.\")\n",
    "\n",
    "try:\n",
    "    chatbot = HybridChatbot()\n",
    "    print(\"\\n Chatbot initialized successfully and is ready to answer questions.\")\n",
    "except Exception as e:\n",
    "    print(f\"\\n An error occurred during initialization: {e}\")\n",
    "    print(\"Please ensure your models are in the 'model_cache' folder and the 'vector_database.pkl' file exists.\")"
   ]
  },
  {
   "cell_type": "markdown",
   "id": "0dbb01b6",
   "metadata": {},
   "source": [
    "## 3. Test the Hybrid Chatbot\n",
    "\n",
    "Now for the final and most exciting part. We will test our chatbot with a series of questions to see the hybrid RAG system in action. Thanks to the powerful CodeBERT model, the similarity search should be much more accurate.\n",
    "\n",
    "- **Test Case 1:** A common question that is likely already in our database to test the **Retrieval** mechanism.\n",
    "- **Test Case 2:** A more unique, technical question that is not in our database to test the **Generative** (Phi-2) mechanism."
   ]
  },
  {
   "cell_type": "code",
   "execution_count": 2,
   "id": "469b9665",
   "metadata": {},
   "outputs": [
    {
     "name": "stderr",
     "output_type": "stream",
     "text": [
      "2025-08-05 12:57:27,732 - INFO     - Testing the chatbot with 2 questions.\n",
      "2025-08-05 12:57:27,734 - INFO     - Received new question: 'how to read csv file in pandas with python?'\n"
     ]
    },
    {
     "name": "stdout",
     "output_type": "stream",
     "text": [
      "--- Starting Chatbot Test with CodeBERT Embeddings ---\n",
      "\n",
      "\n",
      "==================================================\n",
      "QUERY #1: \"how to read csv file in pandas with python?\"\n",
      "==================================================\n"
     ]
    },
    {
     "name": "stderr",
     "output_type": "stream",
     "text": [
      "Batches: 100%|██████████| 1/1 [00:00<00:00,  5.04it/s]\n",
      "2025-08-05 12:57:27,943 - INFO     - Highest similarity score found: 0.4366\n",
      "2025-08-05 12:57:27,943 - INFO     - Generating a new answer with Phi-2.\n",
      "2025-08-05 12:58:09,502 - INFO     - Received new question: 'tell me how to write php function for summing tow numbers ?'\n"
     ]
    },
    {
     "name": "stdout",
     "output_type": "stream",
     "text": [
      "Source of Answer: Generated by Phi-2 (Low Confidence Match)\n",
      "\n",
      "ANSWER:\n",
      "how to read csv file in pandas with python?\n",
      "\n",
      "I have a csv file with the following structure:\n",
      "\n",
      "I want to read this file in pandas and get the following dataframe:\n",
      "\n",
      "I tried the following code:\n",
      "import pandas as pd\n",
      "df = pd.read_csv('file.csv', delimiter=',')\n",
      "\n",
      "But I get the following error:\n",
      "\n",
      "ValueError: Unable to parse column names from line 1:\n",
      "  ['0', '1', '2', '3', '4', '5', '6', '7', '8', '9', '10', '11', '12', '13', '14', '15', '16', '17', '18', '19', '20', '21', '22', '23', '24', '25', '26', '27', '28', '29', '30', '31', '32\n",
      "==================================================\n",
      "\n",
      "\n",
      "==================================================\n",
      "QUERY #2: \"tell me how to write php function for summing tow numbers ?\"\n",
      "==================================================\n"
     ]
    },
    {
     "name": "stderr",
     "output_type": "stream",
     "text": [
      "Batches: 100%|██████████| 1/1 [00:00<00:00, 21.08it/s]\n",
      "2025-08-05 12:58:09,556 - INFO     - Highest similarity score found: 0.7575\n",
      "2025-08-05 12:58:09,556 - INFO     - Retrieving stored answer.\n",
      "2025-08-05 12:58:09,557 - INFO     - Chatbot test complete.\n"
     ]
    },
    {
     "name": "stdout",
     "output_type": "stream",
     "text": [
      "Source of Answer: Retrieved from Database (High Confidence)\n",
      "\n",
      "ANSWER:\n",
      "Here's a simple PHP script that accepts two numbers as command-line arguments and returns their sum:\n",
      "\n",
      "```php\n",
      "<?php\n",
      "\n",
      "if ($argc < 3) {\n",
      "    echo \"Usage: php sum.php number1 number2\\n\";\n",
      "    exit(1);\n",
      "}\n",
      "\n",
      "$num1 = $argv[1];\n",
      "$num2 = $argv[2];\n",
      "\n",
      "if (!is_numeric($num1) || !is_numeric($num2)) {\n",
      "    echo \"Both arguments must be numbers.\\n\";\n",
      "    exit(1);\n",
      "}\n",
      "\n",
      "$sum = $num1 + $num2;\n",
      "echo \"The sum of {$num1} and {$num2} is {$sum}.\\n\";\n",
      "\n",
      "?>\n",
      "```\n",
      "\n",
      "To run this script, save it to a file called `sum.php` and execute it from the command line with two numbers as arguments, like so:\n",
      "\n",
      "```\n",
      "php sum.php 3 5\n",
      "```\n",
      "\n",
      "This script checks for the correct number of arguments, validates that they are both\n",
      "==================================================\n"
     ]
    }
   ],
   "source": [
    "# Cell 4: Run test cases with the powerful CodeBERT embeddings\n",
    "\n",
    "# Define a list of questions to ask the chatbot\n",
    "test_questions = [\n",
    "    # Test Case 1: A common question, likely in the database to test RETRIEVAL\n",
    "    \"how to read csv file in pandas with python?\",\n",
    "    \n",
    "    # Test Case 2: A more specific question, likely NOT in the database to test GENERATION\n",
    "    # With CodeBERT, the similarity score for this should be lower and trigger Phi-2\n",
    "    \"tell me how to write php function for summing tow numbers ?\"\n",
    "]\n",
    "\n",
    "print(\"--- Starting Chatbot Test with CodeBERT Embeddings ---\")\n",
    "logging.info(f\"Testing the chatbot with {len(test_questions)} questions.\")\n",
    "\n",
    "# Loop through each test question\n",
    "for i, question in enumerate(test_questions):\n",
    "    print(f\"\\n\\n\" + \"=\"*50)\n",
    "    print(f\"QUERY #{i+1}: \\\"{question}\\\"\")\n",
    "    print(\"=\"*50)\n",
    "    \n",
    "    # Get the answer from our chatbot\n",
    "    answer, source = chatbot.get_answer(question)\n",
    "    \n",
    "    # Print the results\n",
    "    print(f\"Source of Answer: {source}\")\n",
    "    print(f\"\\nANSWER:\\n{answer}\")\n",
    "    print(\"=\"*50)\n",
    "\n",
    "logging.info(\"Chatbot test complete.\")"
   ]
  },
  {
   "cell_type": "code",
   "execution_count": null,
   "id": "1464c27b",
   "metadata": {},
   "outputs": [],
   "source": []
  }
 ],
 "metadata": {
  "kernelspec": {
   "display_name": "Python 3",
   "language": "python",
   "name": "python3"
  },
  "language_info": {
   "codemirror_mode": {
    "name": "ipython",
    "version": 3
   },
   "file_extension": ".py",
   "mimetype": "text/x-python",
   "name": "python",
   "nbconvert_exporter": "python",
   "pygments_lexer": "ipython3",
   "version": "3.12.10"
  }
 },
 "nbformat": 4,
 "nbformat_minor": 5
}
